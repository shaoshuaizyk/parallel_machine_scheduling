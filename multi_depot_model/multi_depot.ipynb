{
 "cells": [
  {
   "cell_type": "code",
   "execution_count": null,
   "metadata": {},
   "outputs": [
    {
     "name": "stdout",
     "output_type": "stream",
     "text": [
      "Set parameter Username\n",
      "Academic license - for non-commercial use only - expires 2025-12-23\n",
      "Set parameter Heuristics to value 0.707\n",
      "Set parameter MIPFocus to value 2\n",
      "Gurobi Optimizer version 10.0.0 build v10.0.0rc2 (mac64[x86])\n",
      "\n",
      "CPU model: Intel(R) Core(TM) i5-5350U CPU @ 1.80GHz\n",
      "Thread count: 2 physical cores, 4 logical processors, using up to 4 threads\n",
      "\n",
      "Optimize a model with 305 rows, 155 columns and 1242 nonzeros\n",
      "Model fingerprint: 0xee3db967\n",
      "Variable types: 0 continuous, 155 integer (126 binary)\n",
      "Coefficient statistics:\n",
      "  Matrix range     [1e+00, 1e+05]\n",
      "  Objective range  [1e+00, 1e+00]\n",
      "  Bounds range     [1e+00, 1e+00]\n",
      "  RHS range        [1e+00, 3e+05]\n",
      "Presolve removed 86 rows and 52 columns\n",
      "Presolve time: 0.00s\n",
      "Presolved: 219 rows, 103 columns, 1064 nonzeros\n",
      "Variable types: 0 continuous, 103 integer (82 binary)\n",
      "Root relaxation presolve removed 2 rows and 1 columns\n",
      "Root relaxation presolved: 217 rows, 102 columns, 1049 nonzeros\n",
      "\n",
      "\n",
      "Root relaxation: objective 1.360884e+02, 50 iterations, 0.02 seconds (0.00 work units)\n",
      "\n",
      "    Nodes    |    Current Node    |     Objective Bounds      |     Work\n",
      " Expl Unexpl |  Obj  Depth IntInf | Incumbent    BestBd   Gap | It/Node Time\n",
      "\n",
      "     0     0  136.08842    0   29          -  136.08842      -     -    0s\n",
      "H    0     0                     953.0000000  136.08842  85.7%     -    0s\n",
      "H    0     0                     921.0000000  136.08842  85.2%     -    0s\n",
      "H    0     0                     914.0000000  136.08842  85.1%     -    0s\n",
      "     0     0  298.00000    0   14  914.00000  298.00000  67.4%     -    0s\n",
      "H    0     0                     671.0000000  298.00000  55.6%     -    0s\n",
      "     0     0  298.00000    0   13  671.00000  298.00000  55.6%     -    0s\n",
      "     0     0  298.00000    0   14  671.00000  298.00000  55.6%     -    0s\n",
      "     0     0  298.00000    0    6  671.00000  298.00000  55.6%     -    0s\n",
      "H    0     0                     669.0000000  298.00000  55.5%     -    0s\n",
      "H    0     0                     668.0000000  298.00000  55.4%     -    0s\n",
      "     0     0  298.00000    0   11  668.00000  298.00000  55.4%     -    0s\n",
      "H    0     0                     667.0000000  298.00000  55.3%     -    0s\n",
      "H    0     0                     666.0000000  298.00000  55.3%     -    0s\n",
      "     0     0  298.00000    0   12  666.00000  298.00000  55.3%     -    0s\n",
      "     0     0  298.00000    0    5  666.00000  298.00000  55.3%     -    0s\n",
      "H    0     0                     598.0000000  298.00000  50.2%     -    0s\n",
      "H    0     0                     576.0000000  298.00000  48.3%     -    0s\n",
      "H    0     0                     564.0000000  298.00000  47.2%     -    0s\n",
      "     0     2  298.00000    0    5  564.00000  298.00000  47.2%     -    0s\n",
      "H   29    32                     543.0000000  298.00000  45.1%   6.2    0s\n"
     ]
    }
   ],
   "source": [
    "from multi_depot_demo import multi_depot_demo\n",
    "\n",
    "multi_depot_demo(length=100, width=100, N=5, D=2, M_num=2, seed=42, print_sol=True, visualize=True, video=False)"
   ]
  },
  {
   "cell_type": "code",
   "execution_count": null,
   "metadata": {},
   "outputs": [],
   "source": []
  }
 ],
 "metadata": {
  "kernelspec": {
   "display_name": "Python 3",
   "language": "python",
   "name": "python3"
  },
  "language_info": {
   "codemirror_mode": {
    "name": "ipython",
    "version": 3
   },
   "file_extension": ".py",
   "mimetype": "text/x-python",
   "name": "python",
   "nbconvert_exporter": "python",
   "pygments_lexer": "ipython3",
   "version": "3.9.19"
  }
 },
 "nbformat": 4,
 "nbformat_minor": 2
}
